{
  "nbformat": 4,
  "nbformat_minor": 0,
  "metadata": {
    "colab": {
      "provenance": [],
      "include_colab_link": true
    },
    "kernelspec": {
      "name": "python3",
      "display_name": "Python 3"
    },
    "language_info": {
      "name": "python"
    }
  },
  "cells": [
    {
      "cell_type": "markdown",
      "metadata": {
        "id": "view-in-github",
        "colab_type": "text"
      },
      "source": [
        "<a href=\"https://colab.research.google.com/github/VladKast/Learning_seminar_1st_project_PYTHON/blob/main/Learning_seminar_1st_project_PYTHON.ipynb\" target=\"_parent\"><img src=\"https://colab.research.google.com/assets/colab-badge.svg\" alt=\"Open In Colab\"/></a>"
      ]
    },
    {
      "cell_type": "markdown",
      "source": [
        "The goal is to predict diamond price using the basic\n",
        "diamond properties. Price columns are used as labels (outupts). ¨\n",
        "\n",
        "Dataset is splited into trainig and validation subset. Goal is to reach minimum cost value and prevent over-fitting.\n",
        "\n",
        "Dataset for the task: https://drive.google.com/file/d/1fQrHqZ1vziaWPln-HVbBGGYIlKPoIf_r/view\n"
      ],
      "metadata": {
        "id": "v6ZkYHsZtmnC"
      }
    },
    {
      "cell_type": "code",
      "execution_count": null,
      "metadata": {
        "id": "KQU5lOfAaP7b",
        "colab": {
          "base_uri": "https://localhost:8080/",
          "height": 74
        },
        "outputId": "6a5ad41b-f089-4a2e-bc3b-de23529c219b"
      },
      "outputs": [
        {
          "output_type": "display_data",
          "data": {
            "text/plain": [
              "<IPython.core.display.HTML object>"
            ],
            "text/html": [
              "\n",
              "     <input type=\"file\" id=\"files-cecb09ff-bd1f-49a0-8a10-9c55d458b46c\" name=\"files[]\" multiple disabled\n",
              "        style=\"border:none\" />\n",
              "     <output id=\"result-cecb09ff-bd1f-49a0-8a10-9c55d458b46c\">\n",
              "      Upload widget is only available when the cell has been executed in the\n",
              "      current browser session. Please rerun this cell to enable.\n",
              "      </output>\n",
              "      <script>// Copyright 2017 Google LLC\n",
              "//\n",
              "// Licensed under the Apache License, Version 2.0 (the \"License\");\n",
              "// you may not use this file except in compliance with the License.\n",
              "// You may obtain a copy of the License at\n",
              "//\n",
              "//      http://www.apache.org/licenses/LICENSE-2.0\n",
              "//\n",
              "// Unless required by applicable law or agreed to in writing, software\n",
              "// distributed under the License is distributed on an \"AS IS\" BASIS,\n",
              "// WITHOUT WARRANTIES OR CONDITIONS OF ANY KIND, either express or implied.\n",
              "// See the License for the specific language governing permissions and\n",
              "// limitations under the License.\n",
              "\n",
              "/**\n",
              " * @fileoverview Helpers for google.colab Python module.\n",
              " */\n",
              "(function(scope) {\n",
              "function span(text, styleAttributes = {}) {\n",
              "  const element = document.createElement('span');\n",
              "  element.textContent = text;\n",
              "  for (const key of Object.keys(styleAttributes)) {\n",
              "    element.style[key] = styleAttributes[key];\n",
              "  }\n",
              "  return element;\n",
              "}\n",
              "\n",
              "// Max number of bytes which will be uploaded at a time.\n",
              "const MAX_PAYLOAD_SIZE = 100 * 1024;\n",
              "\n",
              "function _uploadFiles(inputId, outputId) {\n",
              "  const steps = uploadFilesStep(inputId, outputId);\n",
              "  const outputElement = document.getElementById(outputId);\n",
              "  // Cache steps on the outputElement to make it available for the next call\n",
              "  // to uploadFilesContinue from Python.\n",
              "  outputElement.steps = steps;\n",
              "\n",
              "  return _uploadFilesContinue(outputId);\n",
              "}\n",
              "\n",
              "// This is roughly an async generator (not supported in the browser yet),\n",
              "// where there are multiple asynchronous steps and the Python side is going\n",
              "// to poll for completion of each step.\n",
              "// This uses a Promise to block the python side on completion of each step,\n",
              "// then passes the result of the previous step as the input to the next step.\n",
              "function _uploadFilesContinue(outputId) {\n",
              "  const outputElement = document.getElementById(outputId);\n",
              "  const steps = outputElement.steps;\n",
              "\n",
              "  const next = steps.next(outputElement.lastPromiseValue);\n",
              "  return Promise.resolve(next.value.promise).then((value) => {\n",
              "    // Cache the last promise value to make it available to the next\n",
              "    // step of the generator.\n",
              "    outputElement.lastPromiseValue = value;\n",
              "    return next.value.response;\n",
              "  });\n",
              "}\n",
              "\n",
              "/**\n",
              " * Generator function which is called between each async step of the upload\n",
              " * process.\n",
              " * @param {string} inputId Element ID of the input file picker element.\n",
              " * @param {string} outputId Element ID of the output display.\n",
              " * @return {!Iterable<!Object>} Iterable of next steps.\n",
              " */\n",
              "function* uploadFilesStep(inputId, outputId) {\n",
              "  const inputElement = document.getElementById(inputId);\n",
              "  inputElement.disabled = false;\n",
              "\n",
              "  const outputElement = document.getElementById(outputId);\n",
              "  outputElement.innerHTML = '';\n",
              "\n",
              "  const pickedPromise = new Promise((resolve) => {\n",
              "    inputElement.addEventListener('change', (e) => {\n",
              "      resolve(e.target.files);\n",
              "    });\n",
              "  });\n",
              "\n",
              "  const cancel = document.createElement('button');\n",
              "  inputElement.parentElement.appendChild(cancel);\n",
              "  cancel.textContent = 'Cancel upload';\n",
              "  const cancelPromise = new Promise((resolve) => {\n",
              "    cancel.onclick = () => {\n",
              "      resolve(null);\n",
              "    };\n",
              "  });\n",
              "\n",
              "  // Wait for the user to pick the files.\n",
              "  const files = yield {\n",
              "    promise: Promise.race([pickedPromise, cancelPromise]),\n",
              "    response: {\n",
              "      action: 'starting',\n",
              "    }\n",
              "  };\n",
              "\n",
              "  cancel.remove();\n",
              "\n",
              "  // Disable the input element since further picks are not allowed.\n",
              "  inputElement.disabled = true;\n",
              "\n",
              "  if (!files) {\n",
              "    return {\n",
              "      response: {\n",
              "        action: 'complete',\n",
              "      }\n",
              "    };\n",
              "  }\n",
              "\n",
              "  for (const file of files) {\n",
              "    const li = document.createElement('li');\n",
              "    li.append(span(file.name, {fontWeight: 'bold'}));\n",
              "    li.append(span(\n",
              "        `(${file.type || 'n/a'}) - ${file.size} bytes, ` +\n",
              "        `last modified: ${\n",
              "            file.lastModifiedDate ? file.lastModifiedDate.toLocaleDateString() :\n",
              "                                    'n/a'} - `));\n",
              "    const percent = span('0% done');\n",
              "    li.appendChild(percent);\n",
              "\n",
              "    outputElement.appendChild(li);\n",
              "\n",
              "    const fileDataPromise = new Promise((resolve) => {\n",
              "      const reader = new FileReader();\n",
              "      reader.onload = (e) => {\n",
              "        resolve(e.target.result);\n",
              "      };\n",
              "      reader.readAsArrayBuffer(file);\n",
              "    });\n",
              "    // Wait for the data to be ready.\n",
              "    let fileData = yield {\n",
              "      promise: fileDataPromise,\n",
              "      response: {\n",
              "        action: 'continue',\n",
              "      }\n",
              "    };\n",
              "\n",
              "    // Use a chunked sending to avoid message size limits. See b/62115660.\n",
              "    let position = 0;\n",
              "    do {\n",
              "      const length = Math.min(fileData.byteLength - position, MAX_PAYLOAD_SIZE);\n",
              "      const chunk = new Uint8Array(fileData, position, length);\n",
              "      position += length;\n",
              "\n",
              "      const base64 = btoa(String.fromCharCode.apply(null, chunk));\n",
              "      yield {\n",
              "        response: {\n",
              "          action: 'append',\n",
              "          file: file.name,\n",
              "          data: base64,\n",
              "        },\n",
              "      };\n",
              "\n",
              "      let percentDone = fileData.byteLength === 0 ?\n",
              "          100 :\n",
              "          Math.round((position / fileData.byteLength) * 100);\n",
              "      percent.textContent = `${percentDone}% done`;\n",
              "\n",
              "    } while (position < fileData.byteLength);\n",
              "  }\n",
              "\n",
              "  // All done.\n",
              "  yield {\n",
              "    response: {\n",
              "      action: 'complete',\n",
              "    }\n",
              "  };\n",
              "}\n",
              "\n",
              "scope.google = scope.google || {};\n",
              "scope.google.colab = scope.google.colab || {};\n",
              "scope.google.colab._files = {\n",
              "  _uploadFiles,\n",
              "  _uploadFilesContinue,\n",
              "};\n",
              "})(self);\n",
              "</script> "
            ]
          },
          "metadata": {}
        },
        {
          "output_type": "stream",
          "name": "stdout",
          "text": [
            "Saving diamonds.csv to diamonds.csv\n"
          ]
        }
      ],
      "source": [
        "import numpy as np \n",
        "import pandas as pd \n",
        "import seaborn as sns\n",
        "import matplotlib as mpl\n",
        "import matplotlib.pyplot as plt\n",
        "import matplotlib.pylab as pylab\n",
        "from google.colab import files\n",
        "import io\n",
        "from math import sqrt\n",
        "\n",
        "import tensorflow as tf\n",
        "\n",
        "from sklearn.preprocessing import OneHotEncoder, OrdinalEncoder\n",
        "from sklearn.preprocessing import LabelEncoder\n",
        "from sklearn.preprocessing import MinMaxScaler\n",
        "from sklearn.model_selection import train_test_split\n",
        "from sklearn.metrics import mean_absolute_error\n",
        "\n",
        "from sklearn.linear_model import LinearRegression\n",
        "from sklearn.linear_model import Ridge\n",
        "from sklearn.linear_model import Lasso\n",
        "\n",
        "data = files.upload()  # Upload file diamonds.csv from computer\n",
        "\n",
        "\n"
      ]
    },
    {
      "cell_type": "code",
      "source": [
        "# Data\n",
        "data = pd.read_csv(io.StringIO(data['diamonds.csv'].decode('utf-8')))"
      ],
      "metadata": {
        "id": "yN0_0ersoSnU"
      },
      "execution_count": null,
      "outputs": []
    },
    {
      "cell_type": "code",
      "source": [
        "data.head()"
      ],
      "metadata": {
        "colab": {
          "base_uri": "https://localhost:8080/",
          "height": 206
        },
        "id": "kCwYZsTTpDqE",
        "outputId": "5e40ca3f-ad29-44df-8569-5c1d677ce707"
      },
      "execution_count": null,
      "outputs": [
        {
          "output_type": "execute_result",
          "data": {
            "text/plain": [
              "   Unnamed: 0  carat      cut color clarity  depth  table  price     x     y  \\\n",
              "0           1   0.23    Ideal     E     SI2   61.5   55.0    326  3.95  3.98   \n",
              "1           2   0.21  Premium     E     SI1   59.8   61.0    326  3.89  3.84   \n",
              "2           3   0.23     Good     E     VS1   56.9   65.0    327  4.05  4.07   \n",
              "3           4   0.29  Premium     I     VS2   62.4   58.0    334  4.20  4.23   \n",
              "4           5   0.31     Good     J     SI2   63.3   58.0    335  4.34  4.35   \n",
              "\n",
              "      z  \n",
              "0  2.43  \n",
              "1  2.31  \n",
              "2  2.31  \n",
              "3  2.63  \n",
              "4  2.75  "
            ],
            "text/html": [
              "\n",
              "  <div id=\"df-1aafff44-c85e-4c8d-bf59-8041218ab5e4\">\n",
              "    <div class=\"colab-df-container\">\n",
              "      <div>\n",
              "<style scoped>\n",
              "    .dataframe tbody tr th:only-of-type {\n",
              "        vertical-align: middle;\n",
              "    }\n",
              "\n",
              "    .dataframe tbody tr th {\n",
              "        vertical-align: top;\n",
              "    }\n",
              "\n",
              "    .dataframe thead th {\n",
              "        text-align: right;\n",
              "    }\n",
              "</style>\n",
              "<table border=\"1\" class=\"dataframe\">\n",
              "  <thead>\n",
              "    <tr style=\"text-align: right;\">\n",
              "      <th></th>\n",
              "      <th>Unnamed: 0</th>\n",
              "      <th>carat</th>\n",
              "      <th>cut</th>\n",
              "      <th>color</th>\n",
              "      <th>clarity</th>\n",
              "      <th>depth</th>\n",
              "      <th>table</th>\n",
              "      <th>price</th>\n",
              "      <th>x</th>\n",
              "      <th>y</th>\n",
              "      <th>z</th>\n",
              "    </tr>\n",
              "  </thead>\n",
              "  <tbody>\n",
              "    <tr>\n",
              "      <th>0</th>\n",
              "      <td>1</td>\n",
              "      <td>0.23</td>\n",
              "      <td>Ideal</td>\n",
              "      <td>E</td>\n",
              "      <td>SI2</td>\n",
              "      <td>61.5</td>\n",
              "      <td>55.0</td>\n",
              "      <td>326</td>\n",
              "      <td>3.95</td>\n",
              "      <td>3.98</td>\n",
              "      <td>2.43</td>\n",
              "    </tr>\n",
              "    <tr>\n",
              "      <th>1</th>\n",
              "      <td>2</td>\n",
              "      <td>0.21</td>\n",
              "      <td>Premium</td>\n",
              "      <td>E</td>\n",
              "      <td>SI1</td>\n",
              "      <td>59.8</td>\n",
              "      <td>61.0</td>\n",
              "      <td>326</td>\n",
              "      <td>3.89</td>\n",
              "      <td>3.84</td>\n",
              "      <td>2.31</td>\n",
              "    </tr>\n",
              "    <tr>\n",
              "      <th>2</th>\n",
              "      <td>3</td>\n",
              "      <td>0.23</td>\n",
              "      <td>Good</td>\n",
              "      <td>E</td>\n",
              "      <td>VS1</td>\n",
              "      <td>56.9</td>\n",
              "      <td>65.0</td>\n",
              "      <td>327</td>\n",
              "      <td>4.05</td>\n",
              "      <td>4.07</td>\n",
              "      <td>2.31</td>\n",
              "    </tr>\n",
              "    <tr>\n",
              "      <th>3</th>\n",
              "      <td>4</td>\n",
              "      <td>0.29</td>\n",
              "      <td>Premium</td>\n",
              "      <td>I</td>\n",
              "      <td>VS2</td>\n",
              "      <td>62.4</td>\n",
              "      <td>58.0</td>\n",
              "      <td>334</td>\n",
              "      <td>4.20</td>\n",
              "      <td>4.23</td>\n",
              "      <td>2.63</td>\n",
              "    </tr>\n",
              "    <tr>\n",
              "      <th>4</th>\n",
              "      <td>5</td>\n",
              "      <td>0.31</td>\n",
              "      <td>Good</td>\n",
              "      <td>J</td>\n",
              "      <td>SI2</td>\n",
              "      <td>63.3</td>\n",
              "      <td>58.0</td>\n",
              "      <td>335</td>\n",
              "      <td>4.34</td>\n",
              "      <td>4.35</td>\n",
              "      <td>2.75</td>\n",
              "    </tr>\n",
              "  </tbody>\n",
              "</table>\n",
              "</div>\n",
              "      <button class=\"colab-df-convert\" onclick=\"convertToInteractive('df-1aafff44-c85e-4c8d-bf59-8041218ab5e4')\"\n",
              "              title=\"Convert this dataframe to an interactive table.\"\n",
              "              style=\"display:none;\">\n",
              "        \n",
              "  <svg xmlns=\"http://www.w3.org/2000/svg\" height=\"24px\"viewBox=\"0 0 24 24\"\n",
              "       width=\"24px\">\n",
              "    <path d=\"M0 0h24v24H0V0z\" fill=\"none\"/>\n",
              "    <path d=\"M18.56 5.44l.94 2.06.94-2.06 2.06-.94-2.06-.94-.94-2.06-.94 2.06-2.06.94zm-11 1L8.5 8.5l.94-2.06 2.06-.94-2.06-.94L8.5 2.5l-.94 2.06-2.06.94zm10 10l.94 2.06.94-2.06 2.06-.94-2.06-.94-.94-2.06-.94 2.06-2.06.94z\"/><path d=\"M17.41 7.96l-1.37-1.37c-.4-.4-.92-.59-1.43-.59-.52 0-1.04.2-1.43.59L10.3 9.45l-7.72 7.72c-.78.78-.78 2.05 0 2.83L4 21.41c.39.39.9.59 1.41.59.51 0 1.02-.2 1.41-.59l7.78-7.78 2.81-2.81c.8-.78.8-2.07 0-2.86zM5.41 20L4 18.59l7.72-7.72 1.47 1.35L5.41 20z\"/>\n",
              "  </svg>\n",
              "      </button>\n",
              "      \n",
              "  <style>\n",
              "    .colab-df-container {\n",
              "      display:flex;\n",
              "      flex-wrap:wrap;\n",
              "      gap: 12px;\n",
              "    }\n",
              "\n",
              "    .colab-df-convert {\n",
              "      background-color: #E8F0FE;\n",
              "      border: none;\n",
              "      border-radius: 50%;\n",
              "      cursor: pointer;\n",
              "      display: none;\n",
              "      fill: #1967D2;\n",
              "      height: 32px;\n",
              "      padding: 0 0 0 0;\n",
              "      width: 32px;\n",
              "    }\n",
              "\n",
              "    .colab-df-convert:hover {\n",
              "      background-color: #E2EBFA;\n",
              "      box-shadow: 0px 1px 2px rgba(60, 64, 67, 0.3), 0px 1px 3px 1px rgba(60, 64, 67, 0.15);\n",
              "      fill: #174EA6;\n",
              "    }\n",
              "\n",
              "    [theme=dark] .colab-df-convert {\n",
              "      background-color: #3B4455;\n",
              "      fill: #D2E3FC;\n",
              "    }\n",
              "\n",
              "    [theme=dark] .colab-df-convert:hover {\n",
              "      background-color: #434B5C;\n",
              "      box-shadow: 0px 1px 3px 1px rgba(0, 0, 0, 0.15);\n",
              "      filter: drop-shadow(0px 1px 2px rgba(0, 0, 0, 0.3));\n",
              "      fill: #FFFFFF;\n",
              "    }\n",
              "  </style>\n",
              "\n",
              "      <script>\n",
              "        const buttonEl =\n",
              "          document.querySelector('#df-1aafff44-c85e-4c8d-bf59-8041218ab5e4 button.colab-df-convert');\n",
              "        buttonEl.style.display =\n",
              "          google.colab.kernel.accessAllowed ? 'block' : 'none';\n",
              "\n",
              "        async function convertToInteractive(key) {\n",
              "          const element = document.querySelector('#df-1aafff44-c85e-4c8d-bf59-8041218ab5e4');\n",
              "          const dataTable =\n",
              "            await google.colab.kernel.invokeFunction('convertToInteractive',\n",
              "                                                     [key], {});\n",
              "          if (!dataTable) return;\n",
              "\n",
              "          const docLinkHtml = 'Like what you see? Visit the ' +\n",
              "            '<a target=\"_blank\" href=https://colab.research.google.com/notebooks/data_table.ipynb>data table notebook</a>'\n",
              "            + ' to learn more about interactive tables.';\n",
              "          element.innerHTML = '';\n",
              "          dataTable['output_type'] = 'display_data';\n",
              "          await google.colab.output.renderOutput(dataTable, element);\n",
              "          const docLink = document.createElement('div');\n",
              "          docLink.innerHTML = docLinkHtml;\n",
              "          element.appendChild(docLink);\n",
              "        }\n",
              "      </script>\n",
              "    </div>\n",
              "  </div>\n",
              "  "
            ]
          },
          "metadata": {},
          "execution_count": 6
        }
      ]
    },
    {
      "cell_type": "code",
      "source": [
        "data.shape"
      ],
      "metadata": {
        "colab": {
          "base_uri": "https://localhost:8080/"
        },
        "id": "UHz5J2mCpwlu",
        "outputId": "0a9fad08-93b3-4347-c585-095bbe92a7f2"
      },
      "execution_count": null,
      "outputs": [
        {
          "output_type": "execute_result",
          "data": {
            "text/plain": [
              "(53940, 11)"
            ]
          },
          "metadata": {},
          "execution_count": 7
        }
      ]
    },
    {
      "cell_type": "code",
      "source": [
        "data.info()"
      ],
      "metadata": {
        "colab": {
          "base_uri": "https://localhost:8080/"
        },
        "id": "SdggAF5Yp3Md",
        "outputId": "477540bd-e23a-42db-896a-4827120fc6e6"
      },
      "execution_count": null,
      "outputs": [
        {
          "output_type": "stream",
          "name": "stdout",
          "text": [
            "<class 'pandas.core.frame.DataFrame'>\n",
            "RangeIndex: 53940 entries, 0 to 53939\n",
            "Data columns (total 11 columns):\n",
            " #   Column      Non-Null Count  Dtype  \n",
            "---  ------      --------------  -----  \n",
            " 0   Unnamed: 0  53940 non-null  int64  \n",
            " 1   carat       53940 non-null  float64\n",
            " 2   cut         53940 non-null  object \n",
            " 3   color       53940 non-null  object \n",
            " 4   clarity     53940 non-null  object \n",
            " 5   depth       53940 non-null  float64\n",
            " 6   table       53940 non-null  float64\n",
            " 7   price       53940 non-null  int64  \n",
            " 8   x           53940 non-null  float64\n",
            " 9   y           53940 non-null  float64\n",
            " 10  z           53940 non-null  float64\n",
            "dtypes: float64(6), int64(2), object(3)\n",
            "memory usage: 4.5+ MB\n"
          ]
        }
      ]
    },
    {
      "cell_type": "code",
      "source": [
        "# first column is just index so I will remove it\n",
        "data = data.drop([\"Unnamed: 0\"], axis = 1)\n"
      ],
      "metadata": {
        "id": "FFPNomynqGjb"
      },
      "execution_count": null,
      "outputs": []
    },
    {
      "cell_type": "code",
      "source": [
        "data.describe()"
      ],
      "metadata": {
        "colab": {
          "base_uri": "https://localhost:8080/",
          "height": 300
        },
        "id": "6kqcl7CHqo8c",
        "outputId": "fa151e98-d0e5-4717-d306-825828d94a5e"
      },
      "execution_count": null,
      "outputs": [
        {
          "output_type": "execute_result",
          "data": {
            "text/plain": [
              "              carat         depth         table         price             x  \\\n",
              "count  53940.000000  53940.000000  53940.000000  53940.000000  53940.000000   \n",
              "mean       0.797940     61.749405     57.457184   3932.799722      5.731157   \n",
              "std        0.474011      1.432621      2.234491   3989.439738      1.121761   \n",
              "min        0.200000     43.000000     43.000000    326.000000      0.000000   \n",
              "25%        0.400000     61.000000     56.000000    950.000000      4.710000   \n",
              "50%        0.700000     61.800000     57.000000   2401.000000      5.700000   \n",
              "75%        1.040000     62.500000     59.000000   5324.250000      6.540000   \n",
              "max        5.010000     79.000000     95.000000  18823.000000     10.740000   \n",
              "\n",
              "                  y             z  \n",
              "count  53940.000000  53940.000000  \n",
              "mean       5.734526      3.538734  \n",
              "std        1.142135      0.705699  \n",
              "min        0.000000      0.000000  \n",
              "25%        4.720000      2.910000  \n",
              "50%        5.710000      3.530000  \n",
              "75%        6.540000      4.040000  \n",
              "max       58.900000     31.800000  "
            ],
            "text/html": [
              "\n",
              "  <div id=\"df-4deb4ec6-b117-4794-9381-710f48e3a79a\">\n",
              "    <div class=\"colab-df-container\">\n",
              "      <div>\n",
              "<style scoped>\n",
              "    .dataframe tbody tr th:only-of-type {\n",
              "        vertical-align: middle;\n",
              "    }\n",
              "\n",
              "    .dataframe tbody tr th {\n",
              "        vertical-align: top;\n",
              "    }\n",
              "\n",
              "    .dataframe thead th {\n",
              "        text-align: right;\n",
              "    }\n",
              "</style>\n",
              "<table border=\"1\" class=\"dataframe\">\n",
              "  <thead>\n",
              "    <tr style=\"text-align: right;\">\n",
              "      <th></th>\n",
              "      <th>carat</th>\n",
              "      <th>depth</th>\n",
              "      <th>table</th>\n",
              "      <th>price</th>\n",
              "      <th>x</th>\n",
              "      <th>y</th>\n",
              "      <th>z</th>\n",
              "    </tr>\n",
              "  </thead>\n",
              "  <tbody>\n",
              "    <tr>\n",
              "      <th>count</th>\n",
              "      <td>53940.000000</td>\n",
              "      <td>53940.000000</td>\n",
              "      <td>53940.000000</td>\n",
              "      <td>53940.000000</td>\n",
              "      <td>53940.000000</td>\n",
              "      <td>53940.000000</td>\n",
              "      <td>53940.000000</td>\n",
              "    </tr>\n",
              "    <tr>\n",
              "      <th>mean</th>\n",
              "      <td>0.797940</td>\n",
              "      <td>61.749405</td>\n",
              "      <td>57.457184</td>\n",
              "      <td>3932.799722</td>\n",
              "      <td>5.731157</td>\n",
              "      <td>5.734526</td>\n",
              "      <td>3.538734</td>\n",
              "    </tr>\n",
              "    <tr>\n",
              "      <th>std</th>\n",
              "      <td>0.474011</td>\n",
              "      <td>1.432621</td>\n",
              "      <td>2.234491</td>\n",
              "      <td>3989.439738</td>\n",
              "      <td>1.121761</td>\n",
              "      <td>1.142135</td>\n",
              "      <td>0.705699</td>\n",
              "    </tr>\n",
              "    <tr>\n",
              "      <th>min</th>\n",
              "      <td>0.200000</td>\n",
              "      <td>43.000000</td>\n",
              "      <td>43.000000</td>\n",
              "      <td>326.000000</td>\n",
              "      <td>0.000000</td>\n",
              "      <td>0.000000</td>\n",
              "      <td>0.000000</td>\n",
              "    </tr>\n",
              "    <tr>\n",
              "      <th>25%</th>\n",
              "      <td>0.400000</td>\n",
              "      <td>61.000000</td>\n",
              "      <td>56.000000</td>\n",
              "      <td>950.000000</td>\n",
              "      <td>4.710000</td>\n",
              "      <td>4.720000</td>\n",
              "      <td>2.910000</td>\n",
              "    </tr>\n",
              "    <tr>\n",
              "      <th>50%</th>\n",
              "      <td>0.700000</td>\n",
              "      <td>61.800000</td>\n",
              "      <td>57.000000</td>\n",
              "      <td>2401.000000</td>\n",
              "      <td>5.700000</td>\n",
              "      <td>5.710000</td>\n",
              "      <td>3.530000</td>\n",
              "    </tr>\n",
              "    <tr>\n",
              "      <th>75%</th>\n",
              "      <td>1.040000</td>\n",
              "      <td>62.500000</td>\n",
              "      <td>59.000000</td>\n",
              "      <td>5324.250000</td>\n",
              "      <td>6.540000</td>\n",
              "      <td>6.540000</td>\n",
              "      <td>4.040000</td>\n",
              "    </tr>\n",
              "    <tr>\n",
              "      <th>max</th>\n",
              "      <td>5.010000</td>\n",
              "      <td>79.000000</td>\n",
              "      <td>95.000000</td>\n",
              "      <td>18823.000000</td>\n",
              "      <td>10.740000</td>\n",
              "      <td>58.900000</td>\n",
              "      <td>31.800000</td>\n",
              "    </tr>\n",
              "  </tbody>\n",
              "</table>\n",
              "</div>\n",
              "      <button class=\"colab-df-convert\" onclick=\"convertToInteractive('df-4deb4ec6-b117-4794-9381-710f48e3a79a')\"\n",
              "              title=\"Convert this dataframe to an interactive table.\"\n",
              "              style=\"display:none;\">\n",
              "        \n",
              "  <svg xmlns=\"http://www.w3.org/2000/svg\" height=\"24px\"viewBox=\"0 0 24 24\"\n",
              "       width=\"24px\">\n",
              "    <path d=\"M0 0h24v24H0V0z\" fill=\"none\"/>\n",
              "    <path d=\"M18.56 5.44l.94 2.06.94-2.06 2.06-.94-2.06-.94-.94-2.06-.94 2.06-2.06.94zm-11 1L8.5 8.5l.94-2.06 2.06-.94-2.06-.94L8.5 2.5l-.94 2.06-2.06.94zm10 10l.94 2.06.94-2.06 2.06-.94-2.06-.94-.94-2.06-.94 2.06-2.06.94z\"/><path d=\"M17.41 7.96l-1.37-1.37c-.4-.4-.92-.59-1.43-.59-.52 0-1.04.2-1.43.59L10.3 9.45l-7.72 7.72c-.78.78-.78 2.05 0 2.83L4 21.41c.39.39.9.59 1.41.59.51 0 1.02-.2 1.41-.59l7.78-7.78 2.81-2.81c.8-.78.8-2.07 0-2.86zM5.41 20L4 18.59l7.72-7.72 1.47 1.35L5.41 20z\"/>\n",
              "  </svg>\n",
              "      </button>\n",
              "      \n",
              "  <style>\n",
              "    .colab-df-container {\n",
              "      display:flex;\n",
              "      flex-wrap:wrap;\n",
              "      gap: 12px;\n",
              "    }\n",
              "\n",
              "    .colab-df-convert {\n",
              "      background-color: #E8F0FE;\n",
              "      border: none;\n",
              "      border-radius: 50%;\n",
              "      cursor: pointer;\n",
              "      display: none;\n",
              "      fill: #1967D2;\n",
              "      height: 32px;\n",
              "      padding: 0 0 0 0;\n",
              "      width: 32px;\n",
              "    }\n",
              "\n",
              "    .colab-df-convert:hover {\n",
              "      background-color: #E2EBFA;\n",
              "      box-shadow: 0px 1px 2px rgba(60, 64, 67, 0.3), 0px 1px 3px 1px rgba(60, 64, 67, 0.15);\n",
              "      fill: #174EA6;\n",
              "    }\n",
              "\n",
              "    [theme=dark] .colab-df-convert {\n",
              "      background-color: #3B4455;\n",
              "      fill: #D2E3FC;\n",
              "    }\n",
              "\n",
              "    [theme=dark] .colab-df-convert:hover {\n",
              "      background-color: #434B5C;\n",
              "      box-shadow: 0px 1px 3px 1px rgba(0, 0, 0, 0.15);\n",
              "      filter: drop-shadow(0px 1px 2px rgba(0, 0, 0, 0.3));\n",
              "      fill: #FFFFFF;\n",
              "    }\n",
              "  </style>\n",
              "\n",
              "      <script>\n",
              "        const buttonEl =\n",
              "          document.querySelector('#df-4deb4ec6-b117-4794-9381-710f48e3a79a button.colab-df-convert');\n",
              "        buttonEl.style.display =\n",
              "          google.colab.kernel.accessAllowed ? 'block' : 'none';\n",
              "\n",
              "        async function convertToInteractive(key) {\n",
              "          const element = document.querySelector('#df-4deb4ec6-b117-4794-9381-710f48e3a79a');\n",
              "          const dataTable =\n",
              "            await google.colab.kernel.invokeFunction('convertToInteractive',\n",
              "                                                     [key], {});\n",
              "          if (!dataTable) return;\n",
              "\n",
              "          const docLinkHtml = 'Like what you see? Visit the ' +\n",
              "            '<a target=\"_blank\" href=https://colab.research.google.com/notebooks/data_table.ipynb>data table notebook</a>'\n",
              "            + ' to learn more about interactive tables.';\n",
              "          element.innerHTML = '';\n",
              "          dataTable['output_type'] = 'display_data';\n",
              "          await google.colab.output.renderOutput(dataTable, element);\n",
              "          const docLink = document.createElement('div');\n",
              "          docLink.innerHTML = docLinkHtml;\n",
              "          element.appendChild(docLink);\n",
              "        }\n",
              "      </script>\n",
              "    </div>\n",
              "  </div>\n",
              "  "
            ]
          },
          "metadata": {},
          "execution_count": 7
        }
      ]
    },
    {
      "cell_type": "code",
      "source": [
        "# zeroes in the row \"min\" indicates incorect data in column x, y, and z so I will remove it (x,y,z rempresents dimenision)\n",
        "data = data.drop(data[data[\"x\"]==0].index)\n",
        "data = data.drop(data[data[\"y\"]==0].index)\n",
        "data = data.drop(data[data[\"z\"]==0].index)\n"
      ],
      "metadata": {
        "id": "ZeajGk-wrvpE"
      },
      "execution_count": null,
      "outputs": []
    },
    {
      "cell_type": "code",
      "source": [
        "data.describe()"
      ],
      "metadata": {
        "colab": {
          "base_uri": "https://localhost:8080/",
          "height": 300
        },
        "id": "-O0ifLSksb8D",
        "outputId": "f5e191a4-c2db-447d-ebd6-8095fd66cfaf"
      },
      "execution_count": null,
      "outputs": [
        {
          "output_type": "execute_result",
          "data": {
            "text/plain": [
              "         Unnamed: 0         carat         depth         table         price  \\\n",
              "count  53920.000000  53920.000000  53920.000000  53920.000000  53920.000000   \n",
              "mean   26972.355731      0.797698     61.749514     57.456834   3930.993231   \n",
              "std    15571.269010      0.473795      1.432331      2.234064   3987.280446   \n",
              "min        1.000000      0.200000     43.000000     43.000000    326.000000   \n",
              "25%    13487.750000      0.400000     61.000000     56.000000    949.000000   \n",
              "50%    26973.500000      0.700000     61.800000     57.000000   2401.000000   \n",
              "75%    40457.250000      1.040000     62.500000     59.000000   5323.250000   \n",
              "max    53940.000000      5.010000     79.000000     95.000000  18823.000000   \n",
              "\n",
              "                  x             y             z  \n",
              "count  53920.000000  53920.000000  53920.000000  \n",
              "mean       5.731627      5.734887      3.540046  \n",
              "std        1.119423      1.140126      0.702530  \n",
              "min        3.730000      3.680000      1.070000  \n",
              "25%        4.710000      4.720000      2.910000  \n",
              "50%        5.700000      5.710000      3.530000  \n",
              "75%        6.540000      6.540000      4.040000  \n",
              "max       10.740000     58.900000     31.800000  "
            ],
            "text/html": [
              "\n",
              "  <div id=\"df-41b96626-039c-44e1-933c-f2d186f4c461\">\n",
              "    <div class=\"colab-df-container\">\n",
              "      <div>\n",
              "<style scoped>\n",
              "    .dataframe tbody tr th:only-of-type {\n",
              "        vertical-align: middle;\n",
              "    }\n",
              "\n",
              "    .dataframe tbody tr th {\n",
              "        vertical-align: top;\n",
              "    }\n",
              "\n",
              "    .dataframe thead th {\n",
              "        text-align: right;\n",
              "    }\n",
              "</style>\n",
              "<table border=\"1\" class=\"dataframe\">\n",
              "  <thead>\n",
              "    <tr style=\"text-align: right;\">\n",
              "      <th></th>\n",
              "      <th>Unnamed: 0</th>\n",
              "      <th>carat</th>\n",
              "      <th>depth</th>\n",
              "      <th>table</th>\n",
              "      <th>price</th>\n",
              "      <th>x</th>\n",
              "      <th>y</th>\n",
              "      <th>z</th>\n",
              "    </tr>\n",
              "  </thead>\n",
              "  <tbody>\n",
              "    <tr>\n",
              "      <th>count</th>\n",
              "      <td>53920.000000</td>\n",
              "      <td>53920.000000</td>\n",
              "      <td>53920.000000</td>\n",
              "      <td>53920.000000</td>\n",
              "      <td>53920.000000</td>\n",
              "      <td>53920.000000</td>\n",
              "      <td>53920.000000</td>\n",
              "      <td>53920.000000</td>\n",
              "    </tr>\n",
              "    <tr>\n",
              "      <th>mean</th>\n",
              "      <td>26972.355731</td>\n",
              "      <td>0.797698</td>\n",
              "      <td>61.749514</td>\n",
              "      <td>57.456834</td>\n",
              "      <td>3930.993231</td>\n",
              "      <td>5.731627</td>\n",
              "      <td>5.734887</td>\n",
              "      <td>3.540046</td>\n",
              "    </tr>\n",
              "    <tr>\n",
              "      <th>std</th>\n",
              "      <td>15571.269010</td>\n",
              "      <td>0.473795</td>\n",
              "      <td>1.432331</td>\n",
              "      <td>2.234064</td>\n",
              "      <td>3987.280446</td>\n",
              "      <td>1.119423</td>\n",
              "      <td>1.140126</td>\n",
              "      <td>0.702530</td>\n",
              "    </tr>\n",
              "    <tr>\n",
              "      <th>min</th>\n",
              "      <td>1.000000</td>\n",
              "      <td>0.200000</td>\n",
              "      <td>43.000000</td>\n",
              "      <td>43.000000</td>\n",
              "      <td>326.000000</td>\n",
              "      <td>3.730000</td>\n",
              "      <td>3.680000</td>\n",
              "      <td>1.070000</td>\n",
              "    </tr>\n",
              "    <tr>\n",
              "      <th>25%</th>\n",
              "      <td>13487.750000</td>\n",
              "      <td>0.400000</td>\n",
              "      <td>61.000000</td>\n",
              "      <td>56.000000</td>\n",
              "      <td>949.000000</td>\n",
              "      <td>4.710000</td>\n",
              "      <td>4.720000</td>\n",
              "      <td>2.910000</td>\n",
              "    </tr>\n",
              "    <tr>\n",
              "      <th>50%</th>\n",
              "      <td>26973.500000</td>\n",
              "      <td>0.700000</td>\n",
              "      <td>61.800000</td>\n",
              "      <td>57.000000</td>\n",
              "      <td>2401.000000</td>\n",
              "      <td>5.700000</td>\n",
              "      <td>5.710000</td>\n",
              "      <td>3.530000</td>\n",
              "    </tr>\n",
              "    <tr>\n",
              "      <th>75%</th>\n",
              "      <td>40457.250000</td>\n",
              "      <td>1.040000</td>\n",
              "      <td>62.500000</td>\n",
              "      <td>59.000000</td>\n",
              "      <td>5323.250000</td>\n",
              "      <td>6.540000</td>\n",
              "      <td>6.540000</td>\n",
              "      <td>4.040000</td>\n",
              "    </tr>\n",
              "    <tr>\n",
              "      <th>max</th>\n",
              "      <td>53940.000000</td>\n",
              "      <td>5.010000</td>\n",
              "      <td>79.000000</td>\n",
              "      <td>95.000000</td>\n",
              "      <td>18823.000000</td>\n",
              "      <td>10.740000</td>\n",
              "      <td>58.900000</td>\n",
              "      <td>31.800000</td>\n",
              "    </tr>\n",
              "  </tbody>\n",
              "</table>\n",
              "</div>\n",
              "      <button class=\"colab-df-convert\" onclick=\"convertToInteractive('df-41b96626-039c-44e1-933c-f2d186f4c461')\"\n",
              "              title=\"Convert this dataframe to an interactive table.\"\n",
              "              style=\"display:none;\">\n",
              "        \n",
              "  <svg xmlns=\"http://www.w3.org/2000/svg\" height=\"24px\"viewBox=\"0 0 24 24\"\n",
              "       width=\"24px\">\n",
              "    <path d=\"M0 0h24v24H0V0z\" fill=\"none\"/>\n",
              "    <path d=\"M18.56 5.44l.94 2.06.94-2.06 2.06-.94-2.06-.94-.94-2.06-.94 2.06-2.06.94zm-11 1L8.5 8.5l.94-2.06 2.06-.94-2.06-.94L8.5 2.5l-.94 2.06-2.06.94zm10 10l.94 2.06.94-2.06 2.06-.94-2.06-.94-.94-2.06-.94 2.06-2.06.94z\"/><path d=\"M17.41 7.96l-1.37-1.37c-.4-.4-.92-.59-1.43-.59-.52 0-1.04.2-1.43.59L10.3 9.45l-7.72 7.72c-.78.78-.78 2.05 0 2.83L4 21.41c.39.39.9.59 1.41.59.51 0 1.02-.2 1.41-.59l7.78-7.78 2.81-2.81c.8-.78.8-2.07 0-2.86zM5.41 20L4 18.59l7.72-7.72 1.47 1.35L5.41 20z\"/>\n",
              "  </svg>\n",
              "      </button>\n",
              "      \n",
              "  <style>\n",
              "    .colab-df-container {\n",
              "      display:flex;\n",
              "      flex-wrap:wrap;\n",
              "      gap: 12px;\n",
              "    }\n",
              "\n",
              "    .colab-df-convert {\n",
              "      background-color: #E8F0FE;\n",
              "      border: none;\n",
              "      border-radius: 50%;\n",
              "      cursor: pointer;\n",
              "      display: none;\n",
              "      fill: #1967D2;\n",
              "      height: 32px;\n",
              "      padding: 0 0 0 0;\n",
              "      width: 32px;\n",
              "    }\n",
              "\n",
              "    .colab-df-convert:hover {\n",
              "      background-color: #E2EBFA;\n",
              "      box-shadow: 0px 1px 2px rgba(60, 64, 67, 0.3), 0px 1px 3px 1px rgba(60, 64, 67, 0.15);\n",
              "      fill: #174EA6;\n",
              "    }\n",
              "\n",
              "    [theme=dark] .colab-df-convert {\n",
              "      background-color: #3B4455;\n",
              "      fill: #D2E3FC;\n",
              "    }\n",
              "\n",
              "    [theme=dark] .colab-df-convert:hover {\n",
              "      background-color: #434B5C;\n",
              "      box-shadow: 0px 1px 3px 1px rgba(0, 0, 0, 0.15);\n",
              "      filter: drop-shadow(0px 1px 2px rgba(0, 0, 0, 0.3));\n",
              "      fill: #FFFFFF;\n",
              "    }\n",
              "  </style>\n",
              "\n",
              "      <script>\n",
              "        const buttonEl =\n",
              "          document.querySelector('#df-41b96626-039c-44e1-933c-f2d186f4c461 button.colab-df-convert');\n",
              "        buttonEl.style.display =\n",
              "          google.colab.kernel.accessAllowed ? 'block' : 'none';\n",
              "\n",
              "        async function convertToInteractive(key) {\n",
              "          const element = document.querySelector('#df-41b96626-039c-44e1-933c-f2d186f4c461');\n",
              "          const dataTable =\n",
              "            await google.colab.kernel.invokeFunction('convertToInteractive',\n",
              "                                                     [key], {});\n",
              "          if (!dataTable) return;\n",
              "\n",
              "          const docLinkHtml = 'Like what you see? Visit the ' +\n",
              "            '<a target=\"_blank\" href=https://colab.research.google.com/notebooks/data_table.ipynb>data table notebook</a>'\n",
              "            + ' to learn more about interactive tables.';\n",
              "          element.innerHTML = '';\n",
              "          dataTable['output_type'] = 'display_data';\n",
              "          await google.colab.output.renderOutput(dataTable, element);\n",
              "          const docLink = document.createElement('div');\n",
              "          docLink.innerHTML = docLinkHtml;\n",
              "          element.appendChild(docLink);\n",
              "        }\n",
              "      </script>\n",
              "    </div>\n",
              "  </div>\n",
              "  "
            ]
          },
          "metadata": {},
          "execution_count": 10
        }
      ]
    },
    {
      "cell_type": "code",
      "source": [
        "data.head()"
      ],
      "metadata": {
        "colab": {
          "base_uri": "https://localhost:8080/",
          "height": 206
        },
        "id": "7rMQl1WGsvJS",
        "outputId": "36af9d1d-5c68-4b6c-f1f8-a06f06854d0a"
      },
      "execution_count": null,
      "outputs": [
        {
          "output_type": "execute_result",
          "data": {
            "text/plain": [
              "   Unnamed: 0  carat      cut color clarity  depth  table  price     x     y  \\\n",
              "0           1   0.23    Ideal     E     SI2   61.5   55.0    326  3.95  3.98   \n",
              "1           2   0.21  Premium     E     SI1   59.8   61.0    326  3.89  3.84   \n",
              "2           3   0.23     Good     E     VS1   56.9   65.0    327  4.05  4.07   \n",
              "3           4   0.29  Premium     I     VS2   62.4   58.0    334  4.20  4.23   \n",
              "4           5   0.31     Good     J     SI2   63.3   58.0    335  4.34  4.35   \n",
              "\n",
              "      z  \n",
              "0  2.43  \n",
              "1  2.31  \n",
              "2  2.31  \n",
              "3  2.63  \n",
              "4  2.75  "
            ],
            "text/html": [
              "\n",
              "  <div id=\"df-a9b69569-79ef-4fe6-8370-28f69ecc100e\">\n",
              "    <div class=\"colab-df-container\">\n",
              "      <div>\n",
              "<style scoped>\n",
              "    .dataframe tbody tr th:only-of-type {\n",
              "        vertical-align: middle;\n",
              "    }\n",
              "\n",
              "    .dataframe tbody tr th {\n",
              "        vertical-align: top;\n",
              "    }\n",
              "\n",
              "    .dataframe thead th {\n",
              "        text-align: right;\n",
              "    }\n",
              "</style>\n",
              "<table border=\"1\" class=\"dataframe\">\n",
              "  <thead>\n",
              "    <tr style=\"text-align: right;\">\n",
              "      <th></th>\n",
              "      <th>Unnamed: 0</th>\n",
              "      <th>carat</th>\n",
              "      <th>cut</th>\n",
              "      <th>color</th>\n",
              "      <th>clarity</th>\n",
              "      <th>depth</th>\n",
              "      <th>table</th>\n",
              "      <th>price</th>\n",
              "      <th>x</th>\n",
              "      <th>y</th>\n",
              "      <th>z</th>\n",
              "    </tr>\n",
              "  </thead>\n",
              "  <tbody>\n",
              "    <tr>\n",
              "      <th>0</th>\n",
              "      <td>1</td>\n",
              "      <td>0.23</td>\n",
              "      <td>Ideal</td>\n",
              "      <td>E</td>\n",
              "      <td>SI2</td>\n",
              "      <td>61.5</td>\n",
              "      <td>55.0</td>\n",
              "      <td>326</td>\n",
              "      <td>3.95</td>\n",
              "      <td>3.98</td>\n",
              "      <td>2.43</td>\n",
              "    </tr>\n",
              "    <tr>\n",
              "      <th>1</th>\n",
              "      <td>2</td>\n",
              "      <td>0.21</td>\n",
              "      <td>Premium</td>\n",
              "      <td>E</td>\n",
              "      <td>SI1</td>\n",
              "      <td>59.8</td>\n",
              "      <td>61.0</td>\n",
              "      <td>326</td>\n",
              "      <td>3.89</td>\n",
              "      <td>3.84</td>\n",
              "      <td>2.31</td>\n",
              "    </tr>\n",
              "    <tr>\n",
              "      <th>2</th>\n",
              "      <td>3</td>\n",
              "      <td>0.23</td>\n",
              "      <td>Good</td>\n",
              "      <td>E</td>\n",
              "      <td>VS1</td>\n",
              "      <td>56.9</td>\n",
              "      <td>65.0</td>\n",
              "      <td>327</td>\n",
              "      <td>4.05</td>\n",
              "      <td>4.07</td>\n",
              "      <td>2.31</td>\n",
              "    </tr>\n",
              "    <tr>\n",
              "      <th>3</th>\n",
              "      <td>4</td>\n",
              "      <td>0.29</td>\n",
              "      <td>Premium</td>\n",
              "      <td>I</td>\n",
              "      <td>VS2</td>\n",
              "      <td>62.4</td>\n",
              "      <td>58.0</td>\n",
              "      <td>334</td>\n",
              "      <td>4.20</td>\n",
              "      <td>4.23</td>\n",
              "      <td>2.63</td>\n",
              "    </tr>\n",
              "    <tr>\n",
              "      <th>4</th>\n",
              "      <td>5</td>\n",
              "      <td>0.31</td>\n",
              "      <td>Good</td>\n",
              "      <td>J</td>\n",
              "      <td>SI2</td>\n",
              "      <td>63.3</td>\n",
              "      <td>58.0</td>\n",
              "      <td>335</td>\n",
              "      <td>4.34</td>\n",
              "      <td>4.35</td>\n",
              "      <td>2.75</td>\n",
              "    </tr>\n",
              "  </tbody>\n",
              "</table>\n",
              "</div>\n",
              "      <button class=\"colab-df-convert\" onclick=\"convertToInteractive('df-a9b69569-79ef-4fe6-8370-28f69ecc100e')\"\n",
              "              title=\"Convert this dataframe to an interactive table.\"\n",
              "              style=\"display:none;\">\n",
              "        \n",
              "  <svg xmlns=\"http://www.w3.org/2000/svg\" height=\"24px\"viewBox=\"0 0 24 24\"\n",
              "       width=\"24px\">\n",
              "    <path d=\"M0 0h24v24H0V0z\" fill=\"none\"/>\n",
              "    <path d=\"M18.56 5.44l.94 2.06.94-2.06 2.06-.94-2.06-.94-.94-2.06-.94 2.06-2.06.94zm-11 1L8.5 8.5l.94-2.06 2.06-.94-2.06-.94L8.5 2.5l-.94 2.06-2.06.94zm10 10l.94 2.06.94-2.06 2.06-.94-2.06-.94-.94-2.06-.94 2.06-2.06.94z\"/><path d=\"M17.41 7.96l-1.37-1.37c-.4-.4-.92-.59-1.43-.59-.52 0-1.04.2-1.43.59L10.3 9.45l-7.72 7.72c-.78.78-.78 2.05 0 2.83L4 21.41c.39.39.9.59 1.41.59.51 0 1.02-.2 1.41-.59l7.78-7.78 2.81-2.81c.8-.78.8-2.07 0-2.86zM5.41 20L4 18.59l7.72-7.72 1.47 1.35L5.41 20z\"/>\n",
              "  </svg>\n",
              "      </button>\n",
              "      \n",
              "  <style>\n",
              "    .colab-df-container {\n",
              "      display:flex;\n",
              "      flex-wrap:wrap;\n",
              "      gap: 12px;\n",
              "    }\n",
              "\n",
              "    .colab-df-convert {\n",
              "      background-color: #E8F0FE;\n",
              "      border: none;\n",
              "      border-radius: 50%;\n",
              "      cursor: pointer;\n",
              "      display: none;\n",
              "      fill: #1967D2;\n",
              "      height: 32px;\n",
              "      padding: 0 0 0 0;\n",
              "      width: 32px;\n",
              "    }\n",
              "\n",
              "    .colab-df-convert:hover {\n",
              "      background-color: #E2EBFA;\n",
              "      box-shadow: 0px 1px 2px rgba(60, 64, 67, 0.3), 0px 1px 3px 1px rgba(60, 64, 67, 0.15);\n",
              "      fill: #174EA6;\n",
              "    }\n",
              "\n",
              "    [theme=dark] .colab-df-convert {\n",
              "      background-color: #3B4455;\n",
              "      fill: #D2E3FC;\n",
              "    }\n",
              "\n",
              "    [theme=dark] .colab-df-convert:hover {\n",
              "      background-color: #434B5C;\n",
              "      box-shadow: 0px 1px 3px 1px rgba(0, 0, 0, 0.15);\n",
              "      filter: drop-shadow(0px 1px 2px rgba(0, 0, 0, 0.3));\n",
              "      fill: #FFFFFF;\n",
              "    }\n",
              "  </style>\n",
              "\n",
              "      <script>\n",
              "        const buttonEl =\n",
              "          document.querySelector('#df-a9b69569-79ef-4fe6-8370-28f69ecc100e button.colab-df-convert');\n",
              "        buttonEl.style.display =\n",
              "          google.colab.kernel.accessAllowed ? 'block' : 'none';\n",
              "\n",
              "        async function convertToInteractive(key) {\n",
              "          const element = document.querySelector('#df-a9b69569-79ef-4fe6-8370-28f69ecc100e');\n",
              "          const dataTable =\n",
              "            await google.colab.kernel.invokeFunction('convertToInteractive',\n",
              "                                                     [key], {});\n",
              "          if (!dataTable) return;\n",
              "\n",
              "          const docLinkHtml = 'Like what you see? Visit the ' +\n",
              "            '<a target=\"_blank\" href=https://colab.research.google.com/notebooks/data_table.ipynb>data table notebook</a>'\n",
              "            + ' to learn more about interactive tables.';\n",
              "          element.innerHTML = '';\n",
              "          dataTable['output_type'] = 'display_data';\n",
              "          await google.colab.output.renderOutput(dataTable, element);\n",
              "          const docLink = document.createElement('div');\n",
              "          docLink.innerHTML = docLinkHtml;\n",
              "          element.appendChild(docLink);\n",
              "        }\n",
              "      </script>\n",
              "    </div>\n",
              "  </div>\n",
              "  "
            ]
          },
          "metadata": {},
          "execution_count": 11
        }
      ]
    },
    {
      "cell_type": "code",
      "source": [
        "# Column cut, color and clarity - needs to be handled\n",
        "cut_OE = OrdinalEncoder(categories=[['Ideal','Premium','Good','Very Good', 'Fair'], \n",
        "                                    ['E','I', 'J', 'H','F', 'G', 'D'],\n",
        "                                    ['SI2','SI1','VS1','VS2','WS2','WS1','I1','IF']])\n"
      ],
      "metadata": {
        "id": "m8p6vebpxM3w"
      },
      "execution_count": null,
      "outputs": []
    },
    {
      "cell_type": "code",
      "source": [
        "plt.scatter(x=data.carat, y=data.price)"
      ],
      "metadata": {
        "colab": {
          "base_uri": "https://localhost:8080/",
          "height": 283
        },
        "id": "V6FtBZrnz6qN",
        "outputId": "7aedc20d-4b83-4ce9-b41f-6545f1cbc691"
      },
      "execution_count": null,
      "outputs": [
        {
          "output_type": "execute_result",
          "data": {
            "text/plain": [
              "<matplotlib.collections.PathCollection at 0x7fe52bc26090>"
            ]
          },
          "metadata": {},
          "execution_count": 23
        },
        {
          "output_type": "display_data",
          "data": {
            "text/plain": [
              "<Figure size 432x288 with 1 Axes>"
            ],
            "image/png": "[encoded data removed]"
          },
          "metadata": {
            "needs_background": "light"
          }
        }
      ]
    },
    {
      "cell_type": "code",
      "source": [
        "plt.scatter(x=data.depth, y=data.price)"
      ],
      "metadata": {
        "colab": {
          "base_uri": "https://localhost:8080/",
          "height": 283
        },
        "id": "1K3IDyhv6eEk",
        "outputId": "20541246-030e-44a4-e591-d6a2fe9dcc96"
      },
      "execution_count": null,
      "outputs": [
        {
          "output_type": "execute_result",
          "data": {
            "text/plain": [
              "<matplotlib.collections.PathCollection at 0x7fe52bc262d0>"
            ]
          },
          "metadata": {},
          "execution_count": 24
        },
        {
          "output_type": "display_data",
          "data": {
            "text/plain": [
              "<Figure size 432x288 with 1 Axes>"
            ],
            "image/png": "[encoded data removed]"
          },
          "metadata": {
            "needs_background": "light"
          }
        }
      ]
    },
    {
      "cell_type": "code",
      "source": [
        "plt.scatter(x=data.table, y=data.price)"
      ],
      "metadata": {
        "colab": {
          "base_uri": "https://localhost:8080/",
          "height": 283
        },
        "id": "RbF3P4Qh6o4b",
        "outputId": "d1acb077-916c-48e2-d6cd-25f6815c6273"
      },
      "execution_count": null,
      "outputs": [
        {
          "output_type": "execute_result",
          "data": {
            "text/plain": [
              "<matplotlib.collections.PathCollection at 0x7fe52bab1a50>"
            ]
          },
          "metadata": {},
          "execution_count": 25
        },
        {
          "output_type": "display_data",
          "data": {
            "text/plain": [
              "<Figure size 432x288 with 1 Axes>"
            ],
            "image/png": "[encoded data removed]"
          },
          "metadata": {
            "needs_background": "light"
          }
        }
      ]
    },
    {
      "cell_type": "code",
      "source": [
        "plt.scatter(x=data.x, y=data.price)"
      ],
      "metadata": {
        "colab": {
          "base_uri": "https://localhost:8080/",
          "height": 283
        },
        "id": "zS6bQFOz6xAh",
        "outputId": "195fc61d-4941-451d-9630-5712caf90cb2"
      },
      "execution_count": null,
      "outputs": [
        {
          "output_type": "execute_result",
          "data": {
            "text/plain": [
              "<matplotlib.collections.PathCollection at 0x7fe52ba24850>"
            ]
          },
          "metadata": {},
          "execution_count": 26
        },
        {
          "output_type": "display_data",
          "data": {
            "text/plain": [
              "<Figure size 432x288 with 1 Axes>"
            ],
            "image/png": "[encoded data removed]"
          },
          "metadata": {
            "needs_background": "light"
          }
        }
      ]
    },
    {
      "cell_type": "code",
      "source": [
        "plt.scatter(x=data.y, y=data.price)"
      ],
      "metadata": {
        "colab": {
          "base_uri": "https://localhost:8080/",
          "height": 283
        },
        "id": "XIe_ufyd68mU",
        "outputId": "84782fb2-dbee-4f36-9be2-8ca02a3703d1"
      },
      "execution_count": null,
      "outputs": [
        {
          "output_type": "execute_result",
          "data": {
            "text/plain": [
              "<matplotlib.collections.PathCollection at 0x7fe52b99ab90>"
            ]
          },
          "metadata": {},
          "execution_count": 27
        },
        {
          "output_type": "display_data",
          "data": {
            "text/plain": [
              "<Figure size 432x288 with 1 Axes>"
            ],
            "image/png": "[encoded data removed]"
          },
          "metadata": {
            "needs_background": "light"
          }
        }
      ]
    },
    {
      "cell_type": "code",
      "source": [
        "plt.scatter(x=data.z, y=data.price)"
      ],
      "metadata": {
        "colab": {
          "base_uri": "https://localhost:8080/",
          "height": 283
        },
        "id": "zVUjZHis6-cv",
        "outputId": "a64e9cf7-697d-4fcb-d441-e65d4d9c8893"
      },
      "execution_count": null,
      "outputs": [
        {
          "output_type": "execute_result",
          "data": {
            "text/plain": [
              "<matplotlib.collections.PathCollection at 0x7fe52b991d50>"
            ]
          },
          "metadata": {},
          "execution_count": 28
        },
        {
          "output_type": "display_data",
          "data": {
            "text/plain": [
              "<Figure size 432x288 with 1 Axes>"
            ],
            "image/png": "[encoded data removed]"
          },
          "metadata": {
            "needs_background": "light"
          }
        }
      ]
    },
    {
      "cell_type": "code",
      "source": [
        "# we need to drop outliers, which would affect the outcome of our regression model\n",
        "data = data[(data[\"depth\"]<75)&(data[\"depth\"]>45)]\n",
        "data = data[(data[\"table\"]<80)&(data[\"table\"]>40)]\n",
        "data = data[(data[\"x\"]<30)]\n",
        "data = data[(data[\"y\"]<30)]\n",
        "data = data[(data[\"z\"]<30)&(data[\"z\"]>2)]"
      ],
      "metadata": {
        "id": "k0PoZFMu6FdV"
      },
      "execution_count": null,
      "outputs": []
    },
    {
      "cell_type": "code",
      "source": [
        "data_for_training = data.copy()  # data copy\n"
      ],
      "metadata": {
        "id": "_DdSingq9C1W"
      },
      "execution_count": null,
      "outputs": []
    },
    {
      "cell_type": "markdown",
      "source": [
        "# Bulding Neural Network"
      ],
      "metadata": {
        "id": "Ks5tT6I3_bU-"
      }
    },
    {
      "cell_type": "code",
      "source": [
        "print(cut_OE)"
      ],
      "metadata": {
        "colab": {
          "base_uri": "https://localhost:8080/"
        },
        "id": "-T_mlduo222D",
        "outputId": "31c62ac6-5911-4bef-fcd9-9f9aaa431059"
      },
      "execution_count": null,
      "outputs": [
        {
          "output_type": "stream",
          "name": "stdout",
          "text": [
            "OrdinalEncoder(categories=[['Ideal', 'Premium', 'Good', 'Very Good', 'Fair'],\n",
            "                           ['E', 'I', 'J', 'H', 'F', 'G', 'D'],\n",
            "                           ['SI2', 'SI1', 'VS1', 'VS2', 'WS2', 'WS1', 'I1',\n",
            "                            'IF']])\n"
          ]
        }
      ]
    },
    {
      "cell_type": "code",
      "source": [
        "y = data['price']\n",
        "X = data.drop('price', axis=1)"
      ],
      "metadata": {
        "id": "-5HrcaJ57kNr"
      },
      "execution_count": null,
      "outputs": []
    },
    {
      "cell_type": "code",
      "source": [
        "# encode non numerical values to the numerical ones\n",
        "encoder = LabelEncoder()\n",
        "\n",
        "X['cut'] = encoder.fit_transform(X['cut'])\n",
        "cut_mappings = {index: label for index, label in enumerate(encoder.classes_)}\n",
        "\n",
        "X['color'] = encoder.fit_transform(X['color'])\n",
        "color_mappings = {index: label for index, label in enumerate(encoder.classes_)}\n",
        "\n",
        "X['clarity'] = encoder.fit_transform(X['clarity'])\n",
        "clarity_mappings = {index: label for index, label in enumerate(encoder.classes_)}"
      ],
      "metadata": {
        "id": "kU0d2DxG7OWb"
      },
      "execution_count": null,
      "outputs": []
    },
    {
      "cell_type": "code",
      "source": [
        "print(cut_mappings)\n",
        "print(color_mappings)\n",
        "print(clarity_mappings)"
      ],
      "metadata": {
        "colab": {
          "base_uri": "https://localhost:8080/"
        },
        "id": "Om1sFW6n7mGD",
        "outputId": "7c82206b-a6e5-44c5-b0df-4f29e8969fa3"
      },
      "execution_count": null,
      "outputs": [
        {
          "output_type": "stream",
          "name": "stdout",
          "text": [
            "{0: 'Fair', 1: 'Good', 2: 'Ideal', 3: 'Premium', 4: 'Very Good'}\n",
            "{0: 'D', 1: 'E', 2: 'F', 3: 'G', 4: 'H', 5: 'I', 6: 'J'}\n",
            "{0: 'I1', 1: 'IF', 2: 'SI1', 3: 'SI2', 4: 'VS1', 5: 'VS2', 6: 'VVS1', 7: 'VVS2'}\n"
          ]
        }
      ]
    },
    {
      "cell_type": "code",
      "source": [
        "print(X)\n"
      ],
      "metadata": {
        "colab": {
          "base_uri": "https://localhost:8080/"
        },
        "id": "f4aUt64G7vUF",
        "outputId": "7ab5ef5f-18b0-4469-80a3-3585231bdd02"
      },
      "execution_count": null,
      "outputs": [
        {
          "output_type": "stream",
          "name": "stdout",
          "text": [
            "       Unnamed: 0  carat  cut  color  clarity  depth  table     x     y     z\n",
            "0               1   0.23    2      1        3   61.5   55.0  3.95  3.98  2.43\n",
            "1               2   0.21    3      1        2   59.8   61.0  3.89  3.84  2.31\n",
            "2               3   0.23    1      1        4   56.9   65.0  4.05  4.07  2.31\n",
            "3               4   0.29    3      5        5   62.4   58.0  4.20  4.23  2.63\n",
            "4               5   0.31    1      6        3   63.3   58.0  4.34  4.35  2.75\n",
            "...           ...    ...  ...    ...      ...    ...    ...   ...   ...   ...\n",
            "53935       53936   0.72    2      0        2   60.8   57.0  5.75  5.76  3.50\n",
            "53936       53937   0.72    1      0        2   63.1   55.0  5.69  5.75  3.61\n",
            "53937       53938   0.70    4      0        2   62.8   60.0  5.66  5.68  3.56\n",
            "53938       53939   0.86    3      4        3   61.0   58.0  6.15  6.12  3.74\n",
            "53939       53940   0.75    2      0        3   62.2   55.0  5.83  5.87  3.64\n",
            "\n",
            "[53907 rows x 10 columns]\n"
          ]
        }
      ]
    },
    {
      "cell_type": "code",
      "source": [
        "scaler = MinMaxScaler()\n",
        "X = scaler.fit_transform(X)"
      ],
      "metadata": {
        "id": "T_kq5dUr8jex"
      },
      "execution_count": null,
      "outputs": []
    },
    {
      "cell_type": "code",
      "source": [
        "# data formalization\n",
        "pd.DataFrame(X)"
      ],
      "metadata": {
        "colab": {
          "base_uri": "https://localhost:8080/",
          "height": 424
        },
        "id": "0EENJEn89vaO",
        "outputId": "d74779a5-2d07-41c9-bcdb-810d3ef92c7c"
      },
      "execution_count": null,
      "outputs": [
        {
          "output_type": "execute_result",
          "data": {
            "text/plain": [
              "              0         1     2         3         4         5         6  \\\n",
              "0      0.000000  0.006237  0.50  0.166667  0.428571  0.469298  0.333333   \n",
              "1      0.000019  0.002079  0.75  0.166667  0.285714  0.394737  0.500000   \n",
              "2      0.000037  0.006237  0.25  0.166667  0.571429  0.267544  0.611111   \n",
              "3      0.000056  0.018711  0.75  0.833333  0.714286  0.508772  0.416667   \n",
              "4      0.000074  0.022869  0.25  1.000000  0.428571  0.548246  0.416667   \n",
              "...         ...       ...   ...       ...       ...       ...       ...   \n",
              "53902  0.999926  0.108108  0.50  0.000000  0.285714  0.438596  0.388889   \n",
              "53903  0.999944  0.108108  0.25  0.000000  0.285714  0.539474  0.333333   \n",
              "53904  0.999963  0.103950  1.00  0.000000  0.285714  0.526316  0.472222   \n",
              "53905  0.999981  0.137214  0.75  0.666667  0.428571  0.447368  0.416667   \n",
              "53906  1.000000  0.114345  0.50  0.000000  0.428571  0.500000  0.333333   \n",
              "\n",
              "              7         8         9  \n",
              "0      0.031384  0.043732  0.075203  \n",
              "1      0.022825  0.023324  0.050813  \n",
              "2      0.045649  0.056851  0.050813  \n",
              "3      0.067047  0.080175  0.115854  \n",
              "4      0.087019  0.097668  0.140244  \n",
              "...         ...       ...       ...  \n",
              "53902  0.288160  0.303207  0.292683  \n",
              "53903  0.279601  0.301749  0.315041  \n",
              "53904  0.275321  0.291545  0.304878  \n",
              "53905  0.345221  0.355685  0.341463  \n",
              "53906  0.299572  0.319242  0.321138  \n",
              "\n",
              "[53907 rows x 10 columns]"
            ],
            "text/html": [
              "\n",
              "  <div id=\"df-372cc70a-78e5-4d7c-9863-39bc5370c99a\">\n",
              "    <div class=\"colab-df-container\">\n",
              "      <div>\n",
              "<style scoped>\n",
              "    .dataframe tbody tr th:only-of-type {\n",
              "        vertical-align: middle;\n",
              "    }\n",
              "\n",
              "    .dataframe tbody tr th {\n",
              "        vertical-align: top;\n",
              "    }\n",
              "\n",
              "    .dataframe thead th {\n",
              "        text-align: right;\n",
              "    }\n",
              "</style>\n",
              "<table border=\"1\" class=\"dataframe\">\n",
              "  <thead>\n",
              "    <tr style=\"text-align: right;\">\n",
              "      <th></th>\n",
              "      <th>0</th>\n",
              "      <th>1</th>\n",
              "      <th>2</th>\n",
              "      <th>3</th>\n",
              "      <th>4</th>\n",
              "      <th>5</th>\n",
              "      <th>6</th>\n",
              "      <th>7</th>\n",
              "      <th>8</th>\n",
              "      <th>9</th>\n",
              "    </tr>\n",
              "  </thead>\n",
              "  <tbody>\n",
              "    <tr>\n",
              "      <th>0</th>\n",
              "      <td>0.000000</td>\n",
              "      <td>0.006237</td>\n",
              "      <td>0.50</td>\n",
              "      <td>0.166667</td>\n",
              "      <td>0.428571</td>\n",
              "      <td>0.469298</td>\n",
              "      <td>0.333333</td>\n",
              "      <td>0.031384</td>\n",
              "      <td>0.043732</td>\n",
              "      <td>0.075203</td>\n",
              "    </tr>\n",
              "    <tr>\n",
              "      <th>1</th>\n",
              "      <td>0.000019</td>\n",
              "      <td>0.002079</td>\n",
              "      <td>0.75</td>\n",
              "      <td>0.166667</td>\n",
              "      <td>0.285714</td>\n",
              "      <td>0.394737</td>\n",
              "      <td>0.500000</td>\n",
              "      <td>0.022825</td>\n",
              "      <td>0.023324</td>\n",
              "      <td>0.050813</td>\n",
              "    </tr>\n",
              "    <tr>\n",
              "      <th>2</th>\n",
              "      <td>0.000037</td>\n",
              "      <td>0.006237</td>\n",
              "      <td>0.25</td>\n",
              "      <td>0.166667</td>\n",
              "      <td>0.571429</td>\n",
              "      <td>0.267544</td>\n",
              "      <td>0.611111</td>\n",
              "      <td>0.045649</td>\n",
              "      <td>0.056851</td>\n",
              "      <td>0.050813</td>\n",
              "    </tr>\n",
              "    <tr>\n",
              "      <th>3</th>\n",
              "      <td>0.000056</td>\n",
              "      <td>0.018711</td>\n",
              "      <td>0.75</td>\n",
              "      <td>0.833333</td>\n",
              "      <td>0.714286</td>\n",
              "      <td>0.508772</td>\n",
              "      <td>0.416667</td>\n",
              "      <td>0.067047</td>\n",
              "      <td>0.080175</td>\n",
              "      <td>0.115854</td>\n",
              "    </tr>\n",
              "    <tr>\n",
              "      <th>4</th>\n",
              "      <td>0.000074</td>\n",
              "      <td>0.022869</td>\n",
              "      <td>0.25</td>\n",
              "      <td>1.000000</td>\n",
              "      <td>0.428571</td>\n",
              "      <td>0.548246</td>\n",
              "      <td>0.416667</td>\n",
              "      <td>0.087019</td>\n",
              "      <td>0.097668</td>\n",
              "      <td>0.140244</td>\n",
              "    </tr>\n",
              "    <tr>\n",
              "      <th>...</th>\n",
              "      <td>...</td>\n",
              "      <td>...</td>\n",
              "      <td>...</td>\n",
              "      <td>...</td>\n",
              "      <td>...</td>\n",
              "      <td>...</td>\n",
              "      <td>...</td>\n",
              "      <td>...</td>\n",
              "      <td>...</td>\n",
              "      <td>...</td>\n",
              "    </tr>\n",
              "    <tr>\n",
              "      <th>53902</th>\n",
              "      <td>0.999926</td>\n",
              "      <td>0.108108</td>\n",
              "      <td>0.50</td>\n",
              "      <td>0.000000</td>\n",
              "      <td>0.285714</td>\n",
              "      <td>0.438596</td>\n",
              "      <td>0.388889</td>\n",
              "      <td>0.288160</td>\n",
              "      <td>0.303207</td>\n",
              "      <td>0.292683</td>\n",
              "    </tr>\n",
              "    <tr>\n",
              "      <th>53903</th>\n",
              "      <td>0.999944</td>\n",
              "      <td>0.108108</td>\n",
              "      <td>0.25</td>\n",
              "      <td>0.000000</td>\n",
              "      <td>0.285714</td>\n",
              "      <td>0.539474</td>\n",
              "      <td>0.333333</td>\n",
              "      <td>0.279601</td>\n",
              "      <td>0.301749</td>\n",
              "      <td>0.315041</td>\n",
              "    </tr>\n",
              "    <tr>\n",
              "      <th>53904</th>\n",
              "      <td>0.999963</td>\n",
              "      <td>0.103950</td>\n",
              "      <td>1.00</td>\n",
              "      <td>0.000000</td>\n",
              "      <td>0.285714</td>\n",
              "      <td>0.526316</td>\n",
              "      <td>0.472222</td>\n",
              "      <td>0.275321</td>\n",
              "      <td>0.291545</td>\n",
              "      <td>0.304878</td>\n",
              "    </tr>\n",
              "    <tr>\n",
              "      <th>53905</th>\n",
              "      <td>0.999981</td>\n",
              "      <td>0.137214</td>\n",
              "      <td>0.75</td>\n",
              "      <td>0.666667</td>\n",
              "      <td>0.428571</td>\n",
              "      <td>0.447368</td>\n",
              "      <td>0.416667</td>\n",
              "      <td>0.345221</td>\n",
              "      <td>0.355685</td>\n",
              "      <td>0.341463</td>\n",
              "    </tr>\n",
              "    <tr>\n",
              "      <th>53906</th>\n",
              "      <td>1.000000</td>\n",
              "      <td>0.114345</td>\n",
              "      <td>0.50</td>\n",
              "      <td>0.000000</td>\n",
              "      <td>0.428571</td>\n",
              "      <td>0.500000</td>\n",
              "      <td>0.333333</td>\n",
              "      <td>0.299572</td>\n",
              "      <td>0.319242</td>\n",
              "      <td>0.321138</td>\n",
              "    </tr>\n",
              "  </tbody>\n",
              "</table>\n",
              "<p>53907 rows × 10 columns</p>\n",
              "</div>\n",
              "      <button class=\"colab-df-convert\" onclick=\"convertToInteractive('df-372cc70a-78e5-4d7c-9863-39bc5370c99a')\"\n",
              "              title=\"Convert this dataframe to an interactive table.\"\n",
              "              style=\"display:none;\">\n",
              "        \n",
              "  <svg xmlns=\"http://www.w3.org/2000/svg\" height=\"24px\"viewBox=\"0 0 24 24\"\n",
              "       width=\"24px\">\n",
              "    <path d=\"M0 0h24v24H0V0z\" fill=\"none\"/>\n",
              "    <path d=\"M18.56 5.44l.94 2.06.94-2.06 2.06-.94-2.06-.94-.94-2.06-.94 2.06-2.06.94zm-11 1L8.5 8.5l.94-2.06 2.06-.94-2.06-.94L8.5 2.5l-.94 2.06-2.06.94zm10 10l.94 2.06.94-2.06 2.06-.94-2.06-.94-.94-2.06-.94 2.06-2.06.94z\"/><path d=\"M17.41 7.96l-1.37-1.37c-.4-.4-.92-.59-1.43-.59-.52 0-1.04.2-1.43.59L10.3 9.45l-7.72 7.72c-.78.78-.78 2.05 0 2.83L4 21.41c.39.39.9.59 1.41.59.51 0 1.02-.2 1.41-.59l7.78-7.78 2.81-2.81c.8-.78.8-2.07 0-2.86zM5.41 20L4 18.59l7.72-7.72 1.47 1.35L5.41 20z\"/>\n",
              "  </svg>\n",
              "      </button>\n",
              "      \n",
              "  <style>\n",
              "    .colab-df-container {\n",
              "      display:flex;\n",
              "      flex-wrap:wrap;\n",
              "      gap: 12px;\n",
              "    }\n",
              "\n",
              "    .colab-df-convert {\n",
              "      background-color: #E8F0FE;\n",
              "      border: none;\n",
              "      border-radius: 50%;\n",
              "      cursor: pointer;\n",
              "      display: none;\n",
              "      fill: #1967D2;\n",
              "      height: 32px;\n",
              "      padding: 0 0 0 0;\n",
              "      width: 32px;\n",
              "    }\n",
              "\n",
              "    .colab-df-convert:hover {\n",
              "      background-color: #E2EBFA;\n",
              "      box-shadow: 0px 1px 2px rgba(60, 64, 67, 0.3), 0px 1px 3px 1px rgba(60, 64, 67, 0.15);\n",
              "      fill: #174EA6;\n",
              "    }\n",
              "\n",
              "    [theme=dark] .colab-df-convert {\n",
              "      background-color: #3B4455;\n",
              "      fill: #D2E3FC;\n",
              "    }\n",
              "\n",
              "    [theme=dark] .colab-df-convert:hover {\n",
              "      background-color: #434B5C;\n",
              "      box-shadow: 0px 1px 3px 1px rgba(0, 0, 0, 0.15);\n",
              "      filter: drop-shadow(0px 1px 2px rgba(0, 0, 0, 0.3));\n",
              "      fill: #FFFFFF;\n",
              "    }\n",
              "  </style>\n",
              "\n",
              "      <script>\n",
              "        const buttonEl =\n",
              "          document.querySelector('#df-372cc70a-78e5-4d7c-9863-39bc5370c99a button.colab-df-convert');\n",
              "        buttonEl.style.display =\n",
              "          google.colab.kernel.accessAllowed ? 'block' : 'none';\n",
              "\n",
              "        async function convertToInteractive(key) {\n",
              "          const element = document.querySelector('#df-372cc70a-78e5-4d7c-9863-39bc5370c99a');\n",
              "          const dataTable =\n",
              "            await google.colab.kernel.invokeFunction('convertToInteractive',\n",
              "                                                     [key], {});\n",
              "          if (!dataTable) return;\n",
              "\n",
              "          const docLinkHtml = 'Like what you see? Visit the ' +\n",
              "            '<a target=\"_blank\" href=https://colab.research.google.com/notebooks/data_table.ipynb>data table notebook</a>'\n",
              "            + ' to learn more about interactive tables.';\n",
              "          element.innerHTML = '';\n",
              "          dataTable['output_type'] = 'display_data';\n",
              "          await google.colab.output.renderOutput(dataTable, element);\n",
              "          const docLink = document.createElement('div');\n",
              "          docLink.innerHTML = docLinkHtml;\n",
              "          element.appendChild(docLink);\n",
              "        }\n",
              "      </script>\n",
              "    </div>\n",
              "  </div>\n",
              "  "
            ]
          },
          "metadata": {},
          "execution_count": 35
        }
      ]
    },
    {
      "cell_type": "code",
      "source": [
        "# Data split into training and testing sets\n",
        "X_train, X_test, y_train, y_test = train_test_split(X, y, train_size=0.85)\n",
        "print(len(X_train))\n",
        "print(len(X_test))"
      ],
      "metadata": {
        "colab": {
          "base_uri": "https://localhost:8080/"
        },
        "id": "ARcYJbd-BSK5",
        "outputId": "f2bce740-f134-4f48-f1bc-94ff6b2e95cf"
      },
      "execution_count": null,
      "outputs": [
        {
          "output_type": "stream",
          "name": "stdout",
          "text": [
            "45820\n",
            "8087\n"
          ]
        }
      ]
    },
    {
      "cell_type": "code",
      "source": [
        "# 1. Create a model \n",
        "model = tf.keras.Sequential([                             \n",
        "                             tf.keras.layers.Dense(30, activation='relu'),\n",
        "                             tf.keras.layers.Dense(10, activation='relu'),                              \n",
        "                             tf.keras.layers.Dense(1, activation='relu')\n",
        "                             ])\n",
        "\n",
        "# 2. Compile the model\n",
        "model.compile(loss=tf.keras.losses.mse, \n",
        "              optimizer=tf.keras.optimizers.Adam(lr=0.0001),  \n",
        "              metrics=[\"mae\"]) \n",
        "\n",
        "# 3. Fit the model\n",
        "model.fit(X_train,y_train, epochs=60)"
      ],
      "metadata": {
        "colab": {
          "base_uri": "https://localhost:8080/"
        },
        "id": "fwIZEekuyzhV",
        "outputId": "a9778d2f-04e0-42a5-9d37-4de048f4332c"
      },
      "execution_count": null,
      "outputs": [
        {
          "metadata": {
            "tags": null
          },
          "name": "stderr",
          "output_type": "stream",
          "text": [
            "/usr/local/lib/python3.7/dist-packages/keras/optimizers/optimizer_v2/adam.py:110: UserWarning: The `lr` argument is deprecated, use `learning_rate` instead.\n",
            "  super(Adam, self).__init__(name, **kwargs)\n"
          ]
        },
        {
          "output_type": "stream",
          "name": "stdout",
          "text": [
            "Epoch 1/60\n",
            "1432/1432 [==============================] - 5s 3ms/step - loss: 31306650.0000 - mae: 3928.2393\n",
            "Epoch 2/60\n",
            "1432/1432 [==============================] - 4s 3ms/step - loss: 30983064.0000 - mae: 3890.4968\n",
            "Epoch 3/60\n",
            "1432/1432 [==============================] - 3s 2ms/step - loss: 30085060.0000 - mae: 3783.3784\n",
            "Epoch 4/60\n",
            "1432/1432 [==============================] - 3s 2ms/step - loss: 28521396.0000 - mae: 3589.9954\n",
            "Epoch 5/60\n",
            "1432/1432 [==============================] - 3s 2ms/step - loss: 26359014.0000 - mae: 3318.7803\n",
            "Epoch 6/60\n",
            "1432/1432 [==============================] - 3s 2ms/step - loss: 23720012.0000 - mae: 3036.5771\n",
            "Epoch 7/60\n",
            "1432/1432 [==============================] - 3s 2ms/step - loss: 20830280.0000 - mae: 2826.9238\n",
            "Epoch 8/60\n",
            "1432/1432 [==============================] - 3s 2ms/step - loss: 18015116.0000 - mae: 2698.8237\n",
            "Epoch 9/60\n",
            "1432/1432 [==============================] - 3s 2ms/step - loss: 15650372.0000 - mae: 2666.7346\n",
            "Epoch 10/60\n",
            "1432/1432 [==============================] - 3s 2ms/step - loss: 14036791.0000 - mae: 2675.5505\n",
            "Epoch 11/60\n",
            "1432/1432 [==============================] - 3s 2ms/step - loss: 13141036.0000 - mae: 2695.2573\n",
            "Epoch 12/60\n",
            "1432/1432 [==============================] - 3s 2ms/step - loss: 12651057.0000 - mae: 2703.6418\n",
            "Epoch 13/60\n",
            "1432/1432 [==============================] - 3s 2ms/step - loss: 12278497.0000 - mae: 2689.3389\n",
            "Epoch 14/60\n",
            "1432/1432 [==============================] - 3s 2ms/step - loss: 11914461.0000 - mae: 2658.9490\n",
            "Epoch 15/60\n",
            "1432/1432 [==============================] - 3s 2ms/step - loss: 11536478.0000 - mae: 2617.7825\n",
            "Epoch 16/60\n",
            "1432/1432 [==============================] - 3s 2ms/step - loss: 11142601.0000 - mae: 2573.6829\n",
            "Epoch 17/60\n",
            "1432/1432 [==============================] - 3s 2ms/step - loss: 10729031.0000 - mae: 2522.8328\n",
            "Epoch 18/60\n",
            "1432/1432 [==============================] - 3s 2ms/step - loss: 10293464.0000 - mae: 2471.4077\n",
            "Epoch 19/60\n",
            "1432/1432 [==============================] - 3s 2ms/step - loss: 9834152.0000 - mae: 2410.9338\n",
            "Epoch 20/60\n",
            "1432/1432 [==============================] - 5s 3ms/step - loss: 9352827.0000 - mae: 2348.0269\n",
            "Epoch 21/60\n",
            "1432/1432 [==============================] - 5s 3ms/step - loss: 8854753.0000 - mae: 2284.7742\n",
            "Epoch 22/60\n",
            "1432/1432 [==============================] - 3s 2ms/step - loss: 8332634.0000 - mae: 2208.4150\n",
            "Epoch 23/60\n",
            "1432/1432 [==============================] - 3s 2ms/step - loss: 7792719.0000 - mae: 2128.1470\n",
            "Epoch 24/60\n",
            "1432/1432 [==============================] - 4s 3ms/step - loss: 7248738.0000 - mae: 2039.4441\n",
            "Epoch 25/60\n",
            "1432/1432 [==============================] - 3s 2ms/step - loss: 6698709.0000 - mae: 1947.4363\n",
            "Epoch 26/60\n",
            "1432/1432 [==============================] - 3s 2ms/step - loss: 6160467.5000 - mae: 1842.9814\n",
            "Epoch 27/60\n",
            "1432/1432 [==============================] - 3s 2ms/step - loss: 5658718.5000 - mae: 1743.2906\n",
            "Epoch 28/60\n",
            "1432/1432 [==============================] - 3s 2ms/step - loss: 5196118.5000 - mae: 1636.0088\n",
            "Epoch 29/60\n",
            "1432/1432 [==============================] - 3s 2ms/step - loss: 4784471.5000 - mae: 1533.1869\n",
            "Epoch 30/60\n",
            "1432/1432 [==============================] - 3s 2ms/step - loss: 4433607.0000 - mae: 1440.5404\n",
            "Epoch 31/60\n",
            "1432/1432 [==============================] - 3s 2ms/step - loss: 4147360.7500 - mae: 1367.2239\n",
            "Epoch 32/60\n",
            "1432/1432 [==============================] - 3s 2ms/step - loss: 3918641.5000 - mae: 1311.7660\n",
            "Epoch 33/60\n",
            "1432/1432 [==============================] - 3s 2ms/step - loss: 3736596.0000 - mae: 1275.4421\n",
            "Epoch 34/60\n",
            "1432/1432 [==============================] - 3s 2ms/step - loss: 3589672.5000 - mae: 1257.7078\n",
            "Epoch 35/60\n",
            "1432/1432 [==============================] - 3s 2ms/step - loss: 3467347.2500 - mae: 1241.4161\n",
            "Epoch 36/60\n",
            "1432/1432 [==============================] - 3s 2ms/step - loss: 3358440.5000 - mae: 1228.1639\n",
            "Epoch 37/60\n",
            "1432/1432 [==============================] - 3s 2ms/step - loss: 3254605.7500 - mae: 1215.7142\n",
            "Epoch 38/60\n",
            "1432/1432 [==============================] - 3s 2ms/step - loss: 3154787.5000 - mae: 1203.2208\n",
            "Epoch 39/60\n",
            "1432/1432 [==============================] - 4s 3ms/step - loss: 3059599.0000 - mae: 1189.9248\n",
            "Epoch 40/60\n",
            "1432/1432 [==============================] - 3s 2ms/step - loss: 2967514.5000 - mae: 1177.1151\n",
            "Epoch 41/60\n",
            "1432/1432 [==============================] - 3s 2ms/step - loss: 2878874.5000 - mae: 1165.9274\n",
            "Epoch 42/60\n",
            "1432/1432 [==============================] - 4s 2ms/step - loss: 2792509.2500 - mae: 1153.0220\n",
            "Epoch 43/60\n",
            "1432/1432 [==============================] - 3s 2ms/step - loss: 2708868.0000 - mae: 1141.1154\n",
            "Epoch 44/60\n",
            "1432/1432 [==============================] - 3s 2ms/step - loss: 2627293.5000 - mae: 1126.6587\n",
            "Epoch 45/60\n",
            "1432/1432 [==============================] - 3s 2ms/step - loss: 2549784.7500 - mae: 1116.1255\n",
            "Epoch 46/60\n",
            "1432/1432 [==============================] - 3s 2ms/step - loss: 2474758.2500 - mae: 1102.6309\n",
            "Epoch 47/60\n",
            "1432/1432 [==============================] - 3s 2ms/step - loss: 2403216.2500 - mae: 1088.2111\n",
            "Epoch 48/60\n",
            "1432/1432 [==============================] - 3s 2ms/step - loss: 2334464.5000 - mae: 1074.3401\n",
            "Epoch 49/60\n",
            "1432/1432 [==============================] - 3s 2ms/step - loss: 2270668.7500 - mae: 1063.5665\n",
            "Epoch 50/60\n",
            "1432/1432 [==============================] - 3s 2ms/step - loss: 2210846.5000 - mae: 1049.2747\n",
            "Epoch 51/60\n",
            "1432/1432 [==============================] - 3s 2ms/step - loss: 2153940.5000 - mae: 1038.5193\n",
            "Epoch 52/60\n",
            "1432/1432 [==============================] - 3s 2ms/step - loss: 2100380.5000 - mae: 1026.8889\n",
            "Epoch 53/60\n",
            "1432/1432 [==============================] - 3s 2ms/step - loss: 2051169.5000 - mae: 1014.8801\n",
            "Epoch 54/60\n",
            "1432/1432 [==============================] - 3s 2ms/step - loss: 2005842.5000 - mae: 1005.5401\n",
            "Epoch 55/60\n",
            "1432/1432 [==============================] - 3s 2ms/step - loss: 1963971.2500 - mae: 996.5701\n",
            "Epoch 56/60\n",
            "1432/1432 [==============================] - 3s 2ms/step - loss: 1926373.8750 - mae: 987.0781\n",
            "Epoch 57/60\n",
            "1432/1432 [==============================] - 3s 2ms/step - loss: 1891433.0000 - mae: 979.8809\n",
            "Epoch 58/60\n",
            "1432/1432 [==============================] - 3s 2ms/step - loss: 1859333.7500 - mae: 972.1797\n",
            "Epoch 59/60\n",
            "1432/1432 [==============================] - 3s 2ms/step - loss: 1830865.8750 - mae: 966.7137\n",
            "Epoch 60/60\n",
            "1432/1432 [==============================] - 3s 2ms/step - loss: 1804868.3750 - mae: 961.0122\n"
          ]
        },
        {
          "output_type": "execute_result",
          "data": {
            "text/plain": [
              "<keras.callbacks.History at 0x7fe5275a37d0>"
            ]
          },
          "metadata": {},
          "execution_count": 37
        }
      ]
    },
    {
      "cell_type": "code",
      "source": [
        "train = model.predict(X_train)\n",
        "print(mean_absolute_error(y_train,train))\n",
        "\n",
        "pred = model.predict(X_test)\n",
        "print(mean_absolute_error(y_test,pred))"
      ],
      "metadata": {
        "id": "3RGEfiWl_NDF",
        "colab": {
          "base_uri": "https://localhost:8080/"
        },
        "outputId": "3d421af7-9a1f-4798-db1b-ac64420d5b05"
      },
      "execution_count": null,
      "outputs": [
        {
          "output_type": "stream",
          "name": "stdout",
          "text": [
            "1432/1432 [==============================] - 2s 1ms/step\n",
            "957.5693801977499\n",
            "253/253 [==============================] - 0s 2ms/step\n",
            "961.062322041566\n"
          ]
        }
      ]
    }
  ]
}